{
 "cells": [
  {
   "cell_type": "markdown",
   "metadata": {},
   "source": [
    "# Example 5.2\n",
    "\n",
    "Character level simulation of English using Markov chains."
   ]
  },
  {
   "cell_type": "code",
   "execution_count": 7,
   "metadata": {},
   "outputs": [
    {
     "name": "stdout",
     "output_type": "stream",
     "text": [
      "g.l.se.t.bin.s.lese.ry..wolked.t.hered.e.ly.hr.impefatrt.mofe.mouroreand.thame.ourithad.mbld.limonde.wil.tuned.lensht.thioteranfed.ctonsa.muche.orenoocr.bld.gus.bysckit.h.gom.can.wn.whe.spath.fe.cet.dr..ndald.blpoly.ted.imir.g.arsed..pust.af.thevionglowhelutecld.hayondeacearthes.teelessched.ayow..t.s.bll.meytherepherth.whes.s.othig.uevate.by.pr..ftevesunousto.bed.is.h.thende.list.tin.t.buretsan.gngh.te.we.b.s.awald.d.scaclys.at.ts.ald.towathe..paraveedi.murof.he.s.blindenerrssshenchellls.sourionout.nouly.be.ameenye.und.be..thiss.alldht.ow.bind.llditelerorce.s.s.anon.mutitowerofo.rendazensampo.rmutu.t.brint..g.thacor.m.ises.wodyed.t.ve.alowappan.siththere.canus.gies.swh.mandibiqun.tle.en.oursmend.gr.the.s.woknd..nga.acechencancoleriag.apler.thellome.anthaivalafulllyaure.ul.lm.ithoshenddsais.th.paishe.ab.of.whilare.tare.furirury.inatind.ise.ce.wervinous.of.vidisa.is.insuns.meriee.h.fe.weffrlean.stele.w....aimof.roghcroulin.th.budowanghit.heled.wornoried.m.ckelag.herind.twhay.an.ry.d.loa.\n"
     ]
    }
   ],
   "source": [
    "import numpy as np\n",
    "import matplotlib.pyplot as plt\n",
    "\n",
    "rng = np.random.default_rng(42)\n",
    "\n",
    "def sample(s, w): # discrete sampler for a uniform random variable u, states s and weights w\n",
    "    u = rng.uniform(0, 1)\n",
    "    cdf = np.cumsum(w)\n",
    "    sample_ind = np.argmax(cdf >= u)\n",
    "    return s[sample_ind]\n",
    "\n",
    "# read csv transitions extracted before hand from `War and Peace`\n",
    "TranMatrix = np.genfromtxt('transitions.csv', delimiter=',')\n",
    "\n",
    "# get the states (all letters and a dot)\n",
    "states = ['a', 'b', 'c', 'd', 'e', 'f', 'g', 'h', 'i', 'j', 'k', 'l', 'm', 'n', 'o', 'p', 'q', \n",
    "'r', 's', 't',  'u', 'v', 'w', 'x', 'y', 'z', '.']\n",
    "\n",
    "# simuate T steps from this chain\n",
    "T = 1000\n",
    "X = np.zeros(T, dtype=int)\n",
    "Y = []\n",
    "\n",
    "initState = 6\n",
    "X[0] = initState\n",
    "Y.append(states[initState])\n",
    "\n",
    "s = np.arange(len(states))\n",
    "\n",
    "# print(TranMatrix.shape)\n",
    "# print(len(states))\n",
    "\n",
    "for k in range(1, T):\n",
    "    # random sampling\n",
    "    X[k] = sample(s, TranMatrix[X[k-1],:])\n",
    "    Y.append(states[X[k]])\n",
    "\n",
    "# merge Y as a single text\n",
    "Y = ''.join(Y)\n",
    "print(Y)"
   ]
  },
  {
   "cell_type": "markdown",
   "metadata": {},
   "source": [
    "We can however still use this model to compute the probability of a given sentence. Let us consider the sentence \"the quick brown fox jumps over the lazy dog\"."
   ]
  },
  {
   "cell_type": "code",
   "execution_count": 18,
   "metadata": {},
   "outputs": [
    {
     "name": "stdout",
     "output_type": "stream",
     "text": [
      "-82.9320202715183\n",
      "-92.65260179128019\n",
      "-144.94757135101216\n"
     ]
    }
   ],
   "source": [
    "sentence = 'he.walked.about.in.front.of.the.line.and.at'\n",
    "sentence2 = 'g.l.se.t.bin.s.lese.ry..wolked.t.hered.e.ly'\n",
    "sentence3 = 'eeeeeeeeeeeeeeeeeeeeeeeeeeeeeeeeeeeeeeeeeee'\n",
    "\n",
    "state_inds = [states.index(c) for c in sentence]\n",
    "state_inds2 = [states.index(c) for c in sentence2]\n",
    "state_inds3 = [states.index(c) for c in sentence3]\n",
    "\n",
    "log_prob = 0\n",
    "log_prob_2 = 0\n",
    "log_prob_3 = 0\n",
    "# Compute log probabilities\n",
    "for t in range(1, len(state_inds)):\n",
    "    log_prob += np.log(TranMatrix[state_inds[t-1], state_inds[t]])\n",
    "    log_prob_2 += np.log(TranMatrix[state_inds2[t-1], state_inds2[t]])\n",
    "    log_prob_3 += np.log(TranMatrix[state_inds3[t-1], state_inds3[t]])\n",
    "\n",
    "print(log_prob)\n",
    "print(log_prob_2)\n",
    "print(log_prob_3)"
   ]
  },
  {
   "cell_type": "markdown",
   "metadata": {},
   "source": [
    "Here we can see that while these probabilities are not meaningful per se, the model can still distinguish between improbable and probable sentences."
   ]
  }
 ],
 "metadata": {
  "kernelspec": {
   "display_name": "Python 3",
   "language": "python",
   "name": "python3"
  },
  "language_info": {
   "codemirror_mode": {
    "name": "ipython",
    "version": 3
   },
   "file_extension": ".py",
   "mimetype": "text/x-python",
   "name": "python",
   "nbconvert_exporter": "python",
   "pygments_lexer": "ipython3",
   "version": "3.9.18"
  },
  "widgets": {
   "application/vnd.jupyter.widget-state+json": {
    "state": {},
    "version_major": 2,
    "version_minor": 0
   }
  }
 },
 "nbformat": 4,
 "nbformat_minor": 4
}
