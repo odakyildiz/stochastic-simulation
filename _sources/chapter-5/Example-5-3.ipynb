{
 "cells": [
  {
   "cell_type": "markdown",
   "metadata": {},
   "source": [
    "# Example 5.3\n",
    "\n",
    "Word level simulation of English using Markov chains."
   ]
  },
  {
   "cell_type": "code",
   "execution_count": 4,
   "metadata": {},
   "outputs": [
    {
     "name": "stdout",
     "output_type": "stream",
     "text": [
      "The first word is Sherlock \n",
      "\n",
      "Sherlock\n",
      "Holmes with my plans\n",
      "arranged by the organization which sent to give us leave,” the other side.\n",
      "I gave a first-class chemist; but, as well on. “Surely there was so\n",
      "extraordinarily ample and went in her in\n",
      "astonishment, and see that is that they were ushered\n",
      "into a way by the mountains and going\n",
      "over it, and my way into a\n",
      "hearty laugh.\n",
      "\n",
      "“I wouldn’t have it down.\n",
      "\n",
      "“That’s better,” said I; “but I saw was in the\n",
      "valley, and played with a lot of the roadway without leaving the United States without leaving the distance, Jefferson Hope promptly, remembering the\n",
      "countersign which you do not said the time before me "
     ]
    },
    {
     "name": "stderr",
     "output_type": "stream",
     "text": [
      "/var/folders/d8/86whr2t12h70n511w7s7cm_w0000gn/T/ipykernel_67906/1386447488.py:26: RuntimeWarning: invalid value encountered in divide\n",
      "  transition_matrix = transition_counts / transition_counts.sum(axis=1, keepdims=True)\n"
     ]
    }
   ],
   "source": [
    "import re\n",
    "from collections import defaultdict, Counter\n",
    "import numpy as np\n",
    "from random import randint, choice\n",
    "import matplotlib.pyplot as plt\n",
    "import time\n",
    "\n",
    "rng = np.random.default_rng(19)\n",
    "\n",
    "# Reading the file\n",
    "with open('holmes.txt') as f:\n",
    "    words = re.split(' +', f.read())\n",
    "\n",
    "# Assign an index to each unique word\n",
    "word_to_index = {word: idx for idx, word in enumerate(set(words))}\n",
    "index_to_word = {idx: word for word, idx in word_to_index.items()}\n",
    "\n",
    "# Create transition counts matrix\n",
    "num_words = len(word_to_index)\n",
    "transition_counts = np.zeros((num_words, num_words), dtype=int)\n",
    "\n",
    "for w0, w1 in zip(words[:-1], words[1:]):\n",
    "    transition_counts[word_to_index[w0], word_to_index[w1]] += 1\n",
    "\n",
    "# Convert counts to probabilities to get the transition matrix\n",
    "transition_matrix = transition_counts / transition_counts.sum(axis=1, keepdims=True)\n",
    "\n",
    "# Handle potential NaNs (rows with no transitions)\n",
    "transition_matrix[np.isnan(transition_matrix)] = 0\n",
    "\n",
    "# visualise the transition matrix\n",
    "\n",
    "# plt.imshow((transition_matrix + 1e-8))\n",
    "# plt.colorbar()\n",
    "# plt.show()\n",
    "\n",
    "# simulate a sentence\n",
    "T = 100\n",
    "# w0 = choice(words[:-1])\n",
    "w0 = 'Sherlock'\n",
    "print('The first word is', w0, '\\n')\n",
    "\n",
    "print(w0)\n",
    "\n",
    "for _ in range(T):\n",
    "    # get the index of w0\n",
    "    idx = word_to_index[w0]\n",
    "    # sample the next index using the transition matrix\n",
    "    idx_next = rng.choice(num_words, p=transition_matrix[idx, :])\n",
    "    # convert the index back to the word\n",
    "    w1 = index_to_word[idx_next]\n",
    "    print(w1, end=' ')\n",
    "    w0 = w1\n"
   ]
  }
 ],
 "metadata": {
  "kernelspec": {
   "display_name": "Python 3",
   "language": "python",
   "name": "python3"
  },
  "language_info": {
   "codemirror_mode": {
    "name": "ipython",
    "version": 3
   },
   "file_extension": ".py",
   "mimetype": "text/x-python",
   "name": "python",
   "nbconvert_exporter": "python",
   "pygments_lexer": "ipython3",
   "version": "3.9.18"
  },
  "widgets": {
   "application/vnd.jupyter.widget-state+json": {
    "state": {},
    "version_major": 2,
    "version_minor": 0
   }
  }
 },
 "nbformat": 4,
 "nbformat_minor": 4
}
