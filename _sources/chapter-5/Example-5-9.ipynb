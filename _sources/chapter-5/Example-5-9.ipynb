{
 "cells": [
  {
   "cell_type": "markdown",
   "metadata": {},
   "source": [
    "# Example 5.9\n",
    "\n",
    "Metropolis Hastings algorithm for Example 5.9."
   ]
  },
  {
   "cell_type": "code",
   "execution_count": 2,
   "metadata": {},
   "outputs": [
    {
     "name": "stderr",
     "output_type": "stream",
     "text": [
      "<ipython-input-2-8a7cfa6c56cd>:44: DeprecationWarning: Conversion of an array with ndim > 0 to a scalar is deprecated, and will error in future. Ensure you extract a single element from your array before performing this operation. (Deprecated NumPy 1.25.)\n",
      "  z[n] = z_p\n",
      "<ipython-input-2-8a7cfa6c56cd>:45: DeprecationWarning: Conversion of an array with ndim > 0 to a scalar is deprecated, and will error in future. Ensure you extract a single element from your array before performing this operation. (Deprecated NumPy 1.25.)\n",
      "  s[n] = s_p\n"
     ]
    },
    {
     "data": {
      "image/png": "[encoded data removed]",
      "text/plain": [
       "<Figure size 720x360 with 2 Axes>"
      ]
     },
     "metadata": {
      "needs_background": "light"
     },
     "output_type": "display_data"
    }
   ],
   "source": [
    "import numpy as np\n",
    "import matplotlib.pyplot as plt\n",
    "\n",
    "rng = np.random.default_rng(12345)\n",
    "\n",
    "T = 100\n",
    "z_true = 4\n",
    "s_true = 5\n",
    "\n",
    "Y = rng.normal(z_true, s_true, T)\n",
    "\n",
    "def log_normal_pdf(x, mu, sigma):\n",
    "    return -0.5*np.log(2*np.pi*sigma**2) - (x-mu)**2/(2*sigma**2)\n",
    "\n",
    "sigma_q = 1\n",
    "alpha = 4\n",
    "beta = 5\n",
    "m = 0\n",
    "kappa = 2\n",
    "\n",
    "N = 100000\n",
    "\n",
    "z = np.zeros(N)\n",
    "s = np.zeros(N)\n",
    "\n",
    "z[0] = 0\n",
    "s[0] = 1\n",
    "\n",
    "acc = 0\n",
    "fig = plt.figure(figsize=(10, 5))\n",
    "burnin = 1000\n",
    "\n",
    "for n in range(1, N):\n",
    "\n",
    "    z_p = rng.normal(z[n-1], sigma_q, 1)\n",
    "    s_temp = rng.gamma(alpha, 1/beta, 1)\n",
    "    s_p = 1/s_temp\n",
    "\n",
    "    logr = log_normal_pdf(z_p, m, kappa) + np.sum(log_normal_pdf(Y, z_p, s_p)) - log_normal_pdf(z[n-1], m, kappa) - np.sum(log_normal_pdf(Y, z[n-1], s[n-1]))\n",
    "\n",
    "    u = rng.uniform(0, 1)\n",
    "\n",
    "    if np.log(u) < logr:\n",
    "        z[n] = z_p\n",
    "        s[n] = s_p\n",
    "    else:\n",
    "        z[n] = z[n-1]\n",
    "        s[n] = s[n-1]\n",
    "\n",
    "plt.clf()\n",
    "plt.subplot(1, 2, 1)\n",
    "plt.scatter(z[burnin:n], s[burnin:n], color=[0.8, 0, 0], alpha=0.01, label='samples')\n",
    "plt.scatter(z_true, s_true, color='k', marker='o', label='true')\n",
    "plt.xlim([-6, 6])\n",
    "plt.ylim([0, 10])\n",
    "plt.subplot(1, 2, 2)\n",
    "plt.hist2d(z[burnin:n], s[burnin:n], bins=50, density=True, cmap='Reds', range=[[-6, 6], [0, 10]])\n",
    "plt.scatter(z_true, s_true, color='k', marker='o', s=100)\n",
    "plt.title('Sampled posterior (histogram)')\n",
    "plt.xlim([-6, 6])\n",
    "plt.ylim([0, 10])\n",
    "plt.show()\n"
   ]
  },
  {
   "cell_type": "code",
   "execution_count": null,
   "metadata": {},
   "outputs": [],
   "source": []
  }
 ],
 "metadata": {
  "kernelspec": {
   "display_name": "Python 3",
   "language": "python",
   "name": "python3"
  },
  "language_info": {
   "codemirror_mode": {
    "name": "ipython",
    "version": 3
   },
   "file_extension": ".py",
   "mimetype": "text/x-python",
   "name": "python",
   "nbconvert_exporter": "python",
   "pygments_lexer": "ipython3",
   "version": "3.9.18"
  },
  "widgets": {
   "application/vnd.jupyter.widget-state+json": {
    "state": {},
    "version_major": 2,
    "version_minor": 0
   }
  }
 },
 "nbformat": 4,
 "nbformat_minor": 4
}
