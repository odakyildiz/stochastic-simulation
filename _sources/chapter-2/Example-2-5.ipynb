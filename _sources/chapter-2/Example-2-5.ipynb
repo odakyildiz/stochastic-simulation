{
 "cells": [
  {
   "cell_type": "markdown",
   "metadata": {},
   "source": [
    "# Example 2.5\n",
    "\n",
    "In what follows, we will implement transformation methods for sampling continuous distributions.\n",
    "\n",
    "**Example 2.5.** Let us implement the transformation method where\n",
    "\\begin{align*}\n",
    "X_1 &\\sim \\text{Exp}\\left(\\frac{1}{2}\\right), \\\\\n",
    "X_2 &\\sim \\text{Unif}(-\\pi, \\pi),\n",
    "\\end{align*}\n",
    "and\n",
    "\\begin{align*}\n",
    "Y_1 &= \\sqrt{X_1} \\cos X_2 \\\\\n",
    "Y_2 &= \\sqrt{X_1} \\sin X_2.\n",
    "\\end{align*}"
   ]
  },
  {
   "cell_type": "code",
   "execution_count": 1,
   "metadata": {},
   "outputs": [
    {
     "data": {
      "image/png": "[encoded data removed]",
      "text/plain": [
       "<Figure size 640x480 with 1 Axes>"
      ]
     },
     "metadata": {},
     "output_type": "display_data"
    }
   ],
   "source": [
    "import numpy as np\n",
    "import matplotlib.pyplot as plt\n",
    "\n",
    "rng = np.random.default_rng(123)\n",
    "\n",
    "N = 1000000\n",
    "x_1 = rng.exponential(1/2, N)\n",
    "x_2 = rng.uniform(-np.pi, np.pi, N)\n",
    "\n",
    "y_1 = np.sqrt(x_1) * np.cos(x_2)\n",
    "y_2 = np.sqrt(x_1) * np.sin(x_2)\n",
    "\n",
    "# plot 2d histogram of y_1 and y_2\n",
    "plt.hist2d(y_1, y_2, bins=50)\n",
    "plt.xlabel('$y_1$')\n",
    "plt.ylabel('$y_2$')\n",
    "plt.show()"
   ]
  }
 ],
 "metadata": {
  "kernelspec": {
   "display_name": "Python 3",
   "language": "python",
   "name": "python3"
  },
  "language_info": {
   "codemirror_mode": {
    "name": "ipython",
    "version": 3
   },
   "file_extension": ".py",
   "mimetype": "text/x-python",
   "name": "python",
   "nbconvert_exporter": "python",
   "pygments_lexer": "ipython3",
   "version": "3.10.12"
  },
  "widgets": {
   "application/vnd.jupyter.widget-state+json": {
    "state": {},
    "version_major": 2,
    "version_minor": 0
   }
  }
 },
 "nbformat": 4,
 "nbformat_minor": 4
}
