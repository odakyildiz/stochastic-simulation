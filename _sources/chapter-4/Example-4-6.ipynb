{
 "cells": [
  {
   "cell_type": "markdown",
   "metadata": {},
   "source": [
    "# Example 4.6\n",
    "\n",
    "We compare here the MC estimator for a tail probability estimation problem with the IS estimate."
   ]
  },
  {
   "cell_type": "code",
   "execution_count": 2,
   "metadata": {},
   "outputs": [
    {
     "name": "stdout",
     "output_type": "stream",
     "text": [
      "Integral of p(x) from 4 to infinity:  3.16712429751607e-05\n",
      "Monte Carlo estimate:  0.0\n",
      "Importance sampling estimate:  2.9272760349083073e-05\n"
     ]
    }
   ],
   "source": [
    "import numpy as np\n",
    "import matplotlib.pyplot as plt\n",
    "\n",
    "xx = np.linspace(4, 20, 100000)\n",
    "\n",
    "def p(x):\n",
    "    return np.exp(-x**2/2)/np.sqrt(2*np.pi)\n",
    "\n",
    "def q(x, mu, sigma):\n",
    "    return np.exp(-(x-mu)**2/(2*sigma**2))/(np.sqrt(2*np.pi)*sigma)\n",
    "\n",
    "def w(x, mu, sigma):\n",
    "    return p(x)/q(x, mu, sigma)\n",
    "\n",
    "I = np.trapz(p(xx), xx) # Numerical computation of the integral\n",
    "\n",
    "print('Integral of p(x) from 4 to infinity: ', I)\n",
    "\n",
    "N = 10000\n",
    "\n",
    "x = np.random.normal(0, 1, N) # iid samples from p(x)\n",
    "\n",
    "I_est_MC = (1/N) * np.sum(x > 4)\n",
    "print('Monte Carlo estimate: ', I_est_MC)\n",
    "\n",
    "mu = 6\n",
    "sigma = 1\n",
    "\n",
    "x_s = np.zeros(N)\n",
    "weights = np.zeros(N)\n",
    "\n",
    "for i in range(N):\n",
    "    x_s[i] = np.random.normal(mu, sigma)\n",
    "    weights[i] = w(x_s[i], mu, sigma)\n",
    "\n",
    "I_est_IS = (1/N) * np.sum(weights * (x_s > 4))\n",
    "print('Importance sampling estimate: ', I_est_IS)"
   ]
  }
 ],
 "metadata": {
  "kernelspec": {
   "display_name": "Python 3",
   "language": "python",
   "name": "python3"
  },
  "language_info": {
   "codemirror_mode": {
    "name": "ipython",
    "version": 3
   },
   "file_extension": ".py",
   "mimetype": "text/x-python",
   "name": "python",
   "nbconvert_exporter": "python",
   "pygments_lexer": "ipython3",
   "version": "3.9.18"
  },
  "widgets": {
   "application/vnd.jupyter.widget-state+json": {
    "state": {},
    "version_major": 2,
    "version_minor": 0
   }
  }
 },
 "nbformat": 4,
 "nbformat_minor": 4
}
